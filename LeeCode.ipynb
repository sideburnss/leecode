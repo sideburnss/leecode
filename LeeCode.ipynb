{
 "cells": [
  {
   "cell_type": "code",
   "execution_count": null,
   "metadata": {
    "ExecuteTime": {
     "end_time": "2021-11-07T06:32:49.051778Z",
     "start_time": "2021-11-07T06:32:49.044781Z"
    },
    "id": "0lbMQSexC5Mq"
   },
   "outputs": [],
   "source": [
    "#课程表\n",
    "class Solution:\n",
    "    def findOrder(self, numCourses, prerequisites):\n",
    "        if not prerequisites:\n",
    "            return []\n",
    "        import collections\n",
    "\n",
    "        edges = collections.defaultdict(list)\n",
    "        visited = [0] * numCourses\n",
    "        circle = False\n",
    "        l=[]# stack\n",
    "        #这里需要注意一下\n",
    "        for node in prerequisites:\n",
    "            edges[node[1]].append(node[0])\n",
    "\n",
    "        def dfs(n):\n",
    "            nonlocal circle\n",
    "            visited[n]=1#正在访问\n",
    "            for neighbor in edges[n]:\n",
    "                if visited[neighbor]==0:#如果没有访问过，递归\n",
    "                    dfs(neighbor)\n",
    "                    if circle:\n",
    "                        return\n",
    "                if visited[neighbor]==1:#构成环\n",
    "                    circle=True\n",
    "                    return\n",
    "            visited[n]=2#访问过该点\n",
    "            l.append(n)\n",
    "        for i in range(numCourses):\n",
    "            if visited[i]==0 and not circle:\n",
    "                dfs(i)\n",
    "        if circle:\n",
    "            return []\n",
    "        else:\n",
    "            print(l)\n",
    "            print(edges)\n",
    "            return l[::-1]"
   ]
  },
  {
   "cell_type": "code",
   "execution_count": null,
   "metadata": {
    "ExecuteTime": {
     "end_time": "2021-11-07T07:07:06.223685Z",
     "start_time": "2021-11-07T07:07:06.208932Z"
    },
    "id": "HjT1FTHtC5Mt",
    "outputId": "11521c7b-578b-426a-a9d9-202a20aed1ad"
   },
   "outputs": [
    {
     "name": "stdout",
     "output_type": "stream",
     "text": [
      "[[False, False, False], [False, False, False], [False, False, False]]\n"
     ]
    }
   ],
   "source": [
    "#回文数，动态规划解决。核心的思路是如果两个数相等，那么他们是否是回文数取决于前后各去掉一个字符构成的新字符串是否是回文数。\n",
    "class Solution:\n",
    "    def longestPalindrome(self, s: str) -> str:\n",
    "        n=len(s)\n",
    "        if n==1:\n",
    "            return s\n",
    "        maxlen=1\n",
    "        begin=0\n",
    "        dp=[[False]*n for _ in range(n)]\n",
    "        for i in range(n):\n",
    "            dp[i][i]=True\n",
    "        for L in range(2,n+1):\n",
    "            for i in range(n):\n",
    "                j=i+L-1\n",
    "                if j>n-1:\n",
    "                    break\n",
    "                if s[i]==s[j]:\n",
    "                    if j-i<3:\n",
    "                        dp[i][j]=True\n",
    "                    else:\n",
    "                        dp[i][j]=dp[i+1][j-1]\n",
    "                else:\n",
    "                     dp[i][j]=False\n",
    "                if dp[i][j]==True and j-i+1>maxlen:\n",
    "                    maxlen=j-i+1\n",
    "                    begin=i\n",
    "        return s[begin:begin+maxlen]"
   ]
  },
  {
   "cell_type": "code",
   "execution_count": null,
   "metadata": {},
   "outputs": [],
   "source": [
    "pairs = {\n",
    "    \")\": \"(\",\n",
    "    \"]\": \"[\",\n",
    "    \"}\": \"{\",\n",
    "}\n",
    "print(\")\" in pairs)"
   ]
  },
  {
   "cell_type": "code",
   "execution_count": null,
   "metadata": {
    "ExecuteTime": {
     "end_time": "2021-11-07T08:18:21.433272Z",
     "start_time": "2021-11-07T08:18:21.413614Z"
    },
    "id": "nm5atM1HC5Mv"
   },
   "outputs": [],
   "source": [
    "def multiply(num1, num2):\n",
    "    if num1==\"0\" or num2==\"0\":\n",
    "        return \"0\"\n",
    "    import math\n",
    "    n=len(num2)\n",
    "    sum=0\n",
    "    a=int(num1)\n",
    "    for i in range(n-1,0,-1):\n",
    "        sum+=a * int(num2[i])* math.pow(10,n-1-i)\n",
    "    return str(sum)"
   ]
  },
  {
   "cell_type": "code",
   "execution_count": null,
   "metadata": {
    "ExecuteTime": {
     "end_time": "2021-11-07T08:18:23.094274Z",
     "start_time": "2021-11-07T08:18:23.080134Z"
    },
    "id": "xqC7VQAGC5Mw",
    "outputId": "c0392bca-bb80-47da-aa05-d811284dddfc"
   },
   "outputs": [
    {
     "name": "stdout",
     "output_type": "stream",
     "text": [
      "0\n"
     ]
    }
   ],
   "source": [
    "res=multiply('2','3')\n",
    "print(res)"
   ]
  },
  {
   "cell_type": "code",
   "execution_count": null,
   "metadata": {
    "id": "CRHwB2XlC5Mx"
   },
   "outputs": [],
   "source": [
    "def serarch():\n",
    "    if not nums:\n",
    "        return [-1,-1]\n",
    "        l=0\n",
    "        r=len(nums)-1\n",
    "        mid=-1\n",
    "        while l<=r:\n",
    "            mid=(l+r)//2\n",
    "            if nums[mid]==target:\n",
    "                return mid\n",
    "            elif nums[mid]<target:\n",
    "                l=mid+1\n",
    "            else:\n",
    "                r=mid-1\n",
    "        if mid==-1:\n",
    "            return [-1,-1]\n",
    "        else:\n",
    "            l=mid-1\n",
    "            r=mid+1\n",
    "            while l>=0:\n",
    "                if nums[l]!=target:\n",
    "                    l-=1\n",
    "            while r<len(nums):\n",
    "                if nums[r]!=target:\n",
    "                    r+=1\n",
    "            return [l+1,r-1]"
   ]
  },
  {
   "cell_type": "code",
   "execution_count": null,
   "metadata": {
    "id": "zoX_LJwoC5Mx"
   },
   "outputs": [],
   "source": [
    "#跳格子\n",
    "class Solution:\n",
    "    def canJump(self, nums: List[int]) -> bool:\n",
    "        rightmost=0\n",
    "        for i in range(len(nums)):\n",
    "            if i<=rightmost:\n",
    "                rightmost=max(rightmost,i+nums[i])\n",
    "                if rightmost>=len(nums)-1:\n",
    "                    return True\n",
    "        return False"
   ]
  },
  {
   "cell_type": "code",
   "execution_count": null,
   "metadata": {
    "id": "-IqaZ8cMC5My"
   },
   "outputs": [],
   "source": [
    "#无重叠空间\n",
    "    def eraseOverlapIntervals(self, intervals: List[List[int]]) -> int:\n",
    "        if not intervals:\n",
    "            return 0\n",
    "        intervals.sort(key=lambda x:x[1])\n",
    "        right=intervals[0][1]\n",
    "        n=1\n",
    "        for i in range(1,len(intervals)):\n",
    "            if intervals[i][0]>=right:\n",
    "                n+=1\n",
    "                right=intervals[i][1]\n",
    "        return len(intervals)-n\n"
   ]
  },
  {
   "cell_type": "code",
   "execution_count": null,
   "metadata": {
    "id": "FLZKI-2jC5Mz"
   },
   "outputs": [],
   "source": [
    "#打气球\n",
    "class Solution:\n",
    "    def findMinArrowShots(self, points: List[List[int]]) -> int:\n",
    "        if not list:\n",
    "            return 0\n",
    "        points.sort(key=lambda ballon:ballon[1])\n",
    "        pos=points[0][1]\n",
    "        ans=1\n",
    "        for i in range(1,len(points)):\n",
    "            point=points[i]\n",
    "            if point[0]>pos:\n",
    "                ans+=1\n",
    "                pos=point[1]\n",
    "        return ans"
   ]
  },
  {
   "cell_type": "code",
   "execution_count": null,
   "metadata": {
    "id": "IjYKZYrkC5Mz"
   },
   "outputs": [],
   "source": [
    "#字典树\n",
    "class Trie:\n",
    "    def __init__(self):\n",
    "        self.children = [None] * 26\n",
    "        self.isEnd = False\n",
    "\n",
    "    def searchPrefix(self, prefix: str) -> \"Trie\":\n",
    "        node = self\n",
    "        for ch in prefix:\n",
    "            ch = ord(ch) - ord(\"a\")\n",
    "            if not node.children[ch]:\n",
    "                return None\n",
    "            node = node.children[ch]\n",
    "        return node\n",
    "\n",
    "    def insert(self, word: str) -> None:\n",
    "        node = self\n",
    "        for ch in word:\n",
    "            ch = ord(ch) - ord(\"a\")\n",
    "            if not node.children[ch]:\n",
    "                node.children[ch] = Trie()\n",
    "            node = node.children[ch]\n",
    "        node.isEnd = True\n",
    "\n",
    "    def search(self, word: str) -> bool:\n",
    "        node = self.searchPrefix(word)\n",
    "        return node is not None and node.isEnd\n",
    "\n",
    "    def startsWith(self, prefix: str) -> bool:\n",
    "        return self.searchPrefix(prefix) is not None"
   ]
  },
  {
   "cell_type": "code",
   "execution_count": null,
   "metadata": {
    "ExecuteTime": {
     "end_time": "2021-11-08T06:30:35.851070Z",
     "start_time": "2021-11-08T06:30:35.835036Z"
    },
    "id": "HgoGSpfoC5M0"
   },
   "outputs": [],
   "source": [
    "import collections\n",
    "def replaceWords(roots, sentence):\n",
    "    Trie = lambda: collections.defaultdict(Trie)\n",
    "    print(type(Trie))\n",
    "    trie = Trie()\n",
    "    END = True\n",
    "\n",
    "    for root in roots:\n",
    "        reduce(dict.__getitem__, root, trie)[END] = root\n",
    "\n",
    "    def replace(word):\n",
    "        cur = trie\n",
    "        for letter in word:\n",
    "            if letter not in cur or END in cur: break\n",
    "            cur = cur[letter]\n",
    "        return cur.get(END, word)\n",
    "\n",
    "    return \" \".join(map(replace, sentence.split()))"
   ]
  },
  {
   "cell_type": "code",
   "execution_count": null,
   "metadata": {
    "ExecuteTime": {
     "end_time": "2021-11-08T06:37:19.128775Z",
     "start_time": "2021-11-08T06:37:19.125774Z"
    },
    "id": "_LXHSrA4C5M1",
    "outputId": "f657062e-0f2d-4446-96fd-3fcc01bfef7e",
    "scrolled": true
   },
   "outputs": [],
   "source": [
    "#打家劫舍\n",
    "class Solution:\n",
    "    def rob(self, nums: List[int]) -> int:\n",
    "        def robRange(start: int, end: int) -> int:\n",
    "            first = nums[start]\n",
    "            second = max(nums[start], nums[start + 1])\n",
    "            for i in range(start + 2, end + 1):\n",
    "                first, second = second, max(first + nums[i], second)\n",
    "            return second\n",
    "\n",
    "        length = len(nums)\n",
    "        if length == 1:\n",
    "            return nums[0]\n",
    "        elif length == 2:\n",
    "            return max(nums[0], nums[1])\n",
    "        else:\n",
    "            return max(robRange(0, length - 2), robRange(1, length - 1))"
   ]
  },
  {
   "cell_type": "code",
   "execution_count": null,
   "metadata": {
    "id": "sBem_Q9-C5M1"
   },
   "outputs": [],
   "source": [
    "#股票3，卖两次那个，动态规划\n",
    "n = len(prices)\n",
    "buy1 = buy2 = -prices[0]\n",
    "sell1 = sell2 = 0\n",
    "for i in range(1, n):\n",
    "    buy1 = max(buy1, -prices[i])\n",
    "    sell1 = max(sell1, buy1 + prices[i])\n",
    "    buy2 = max(buy2, sell1 - prices[i])\n",
    "    sell2 = max(sell2, buy2 + prices[i])\n",
    "return sell2\n",
    "#股票1，卖一次那个\n",
    "minprice=max(prices)\n",
    "maxprofit=0\n",
    "for p in prices:\n",
    "    if p<minprice:\n",
    "        minprice=p\n",
    "    else:\n",
    "        maxprofit=max(maxprofit,p-minprice)\n",
    "return maxprofit\n",
    "#买卖多次那个\n",
    "ans=0\n",
    "for i in range(1,len(prices)):\n",
    "    if prices[i]-prices[i-1]>0:\n",
    "        ans+=(prices[i]-prices[i-1])\n",
    "return ans"
   ]
  },
  {
   "cell_type": "code",
   "execution_count": null,
   "metadata": {
    "ExecuteTime": {
     "end_time": "2021-11-08T09:26:40.959802Z",
     "start_time": "2021-11-08T09:26:40.949851Z"
    },
    "id": "DrTmf2crC5M2",
    "outputId": "1df1d183-464f-488d-80a7-567be74aed4a",
    "scrolled": true
   },
   "outputs": [],
   "source": [
    "#有障碍的路径\n",
    "def uniquePathsWithObstacles(self, obstacleGrid: List[List[int]]) -> int:\n",
    "    m,n=len(obstacleGrid),len(obstacleGrid[0])\n",
    "    grid=[[0]*n for _ in range(m)]\n",
    "    for j in range(n):\n",
    "            if obstacleGrid[0][j]==1:\n",
    "                break\n",
    "            grid[0][j]=1\n",
    "    for j in range(m):\n",
    "            if obstacleGrid[j][0]==1:\n",
    "                break\n",
    "            grid[j][0]=1\n",
    "    for i in range(1,m):\n",
    "        for j in range(1,n):\n",
    "            if obstacleGrid[i][j]==1:\n",
    "                grid[i][j]=0\n",
    "            else:\n",
    "                grid[i][j]=grid[i-1][j]+grid[i][j-1]\n",
    "    return grid[m-1][n-1]"
   ]
  },
  {
   "cell_type": "code",
   "execution_count": null,
   "metadata": {
    "id": "_VGU9WCYC5M3"
   },
   "outputs": [],
   "source": [
    "#投掷硬币\n",
    "def probabilityOfHeads(self, prob: List[float], target: int) -> float:\n",
    "    dp = [1] + [0] * target\n",
    "    for p in prob:\n",
    "        for k in range(target, -1, -1):\n",
    "            dp[k] = (dp[k - 1] if k else 0) * p + dp[k] * (1 - p)\n",
    "    return dp[-1]"
   ]
  },
  {
   "cell_type": "code",
   "execution_count": null,
   "metadata": {
    "id": "vL7UXoEYC5M3"
   },
   "outputs": [],
   "source": [
    "#最短的桥\n",
    "def shortestBridge(self, A):\n",
    "        R, C = len(A), len(A[0])\n",
    "        def neighbors(r, c):\n",
    "            for nr, nc in ((r-1,c),(r,c-1),(r+1,c),(r,c+1)):\n",
    "                if 0 <= nr < R and 0 <= nc < C:\n",
    "                    yield nr, nc\n",
    "        def get_components():\n",
    "            done = set()\n",
    "            components = []\n",
    "            for r, row in enumerate(A):\n",
    "                for c, val in enumerate(row):\n",
    "                    if val and (r, c) not in done:\n",
    "                        # Start dfs\n",
    "                        stack = [(r, c)]\n",
    "                        seen = {(r, c)}\n",
    "                        while stack:\n",
    "                            node = stack.pop()\n",
    "                            for nei in neighbors(*node):\n",
    "                                if A[nei[0]][nei[1]] and nei not in seen:\n",
    "                                    stack.append(nei)\n",
    "                                    seen.add(nei)\n",
    "                        done |= seen\n",
    "                        components.append(seen)\n",
    "            return components\n",
    "\n",
    "        source, target = get_components()\n",
    "        print source, target\n",
    "        queue = collections.deque([(node, 0) for node in source])\n",
    "        done = set(source)\n",
    "        while queue:\n",
    "            node, d = queue.popleft()\n",
    "            if node in target: return d-1\n",
    "            for nei in neighbors(*node):\n",
    "                if nei not in done:\n",
    "                    queue.append((nei, d+1))\n",
    "                    done.add(nei)"
   ]
  },
  {
   "cell_type": "code",
   "execution_count": null,
   "metadata": {
    "id": "cKUfCxPPC5M3"
   },
   "outputs": [],
   "source": [
    "class UnionFind:#冗余链接\n",
    "    def __init__(self, n):\n",
    "        self.ancestor = list(range(n))\n",
    "    def union(self, index1: int, index2: int):\n",
    "        self.ancestor[self.find(index1)] = self.find(index2)\n",
    "    def find(self, index: int) -> int:\n",
    "        if self.ancestor[index] != index:\n",
    "            self.ancestor[index] = self.find(self.ancestor[index])\n",
    "        return self.ancestor[index]\n",
    "class Solution:\n",
    "    def findRedundantDirectedConnection(self, edges: List[List[int]]) -> List[int]:\n",
    "        n = len(edges)\n",
    "        uf = UnionFind(n + 1)\n",
    "        parent = list(range(n + 1))\n",
    "        conflict = -1\n",
    "        cycle = -1\n",
    "        for i, (node1, node2) in enumerate(edges):\n",
    "            if parent[node2] != node2:\n",
    "                conflict = i\n",
    "            else:\n",
    "                parent[node2] = node1\n",
    "                if uf.find(node1) == uf.find(node2):\n",
    "                    cycle = i\n",
    "                else:\n",
    "                    uf.union(node1, node2)\n",
    "        if conflict < 0:\n",
    "            return [edges[cycle][0], edges[cycle][1]]\n",
    "        else:\n",
    "            conflictEdge = edges[conflict]\n",
    "            if cycle >= 0:\n",
    "                return [parent[conflictEdge[1]], conflictEdge[1]]\n",
    "            else:\n",
    "                return [conflictEdge[0], conflictEdge[1]]"
   ]
  },
  {
   "cell_type": "code",
   "execution_count": null,
   "metadata": {
    "id": "_lx9pH2uC5M4"
   },
   "outputs": [],
   "source": [
    "def maximumMinimumPath(self, A: List[List[int]]) -> int:得分最高的路径\n",
    "    dire = [[1, 0], [-1, 0], [0, 1], [0, -1]]\n",
    "    r, c, res = len(A), len(A[0]), 0\n",
    "    vi = [[0] * c for _ in range(r)]\n",
    "    h = [[-A[0][0], 0, 0]]\n",
    "    heapq.heapify(h)\n",
    "    def dfs():\n",
    "        nonlocal res\n",
    "        pre, x, y = heapq.heappop(h)\n",
    "        if x == r-1 and y == c-1:\n",
    "            res = max(res, -pre)\n",
    "            return\n",
    "        for i, j in dire:\n",
    "            nx, ny = i + x, j + y\n",
    "            if nx >= 0 and nx < r and ny >= 0 and ny < c and vi[nx][ny] == 0:\n",
    "                vi[nx][ny] = 1\n",
    "                heapq.heappush(h, [max(pre, -A[nx][ny]), nx, ny])\n",
    "        dfs()\n",
    "    vi[0][0] = 1\n",
    "    dfs()\n",
    "    return res"
   ]
  },
  {
   "cell_type": "code",
   "execution_count": null,
   "metadata": {
    "id": "yWogmRPdC5M4"
   },
   "outputs": [],
   "source": [
    "def findLonelyPixel(self, picture):#孤独像素\n",
    "    if not picture or not picture[0]:\n",
    "        return 0\n",
    "    m, n = len(picture), len(picture[0])\n",
    "    res = 0\n",
    "\n",
    "    def check(x0, y0):\n",
    "        for x in range(0, m):  #同一列\n",
    "            if picture[x][y0] == \"B\" and x != x0:\n",
    "                return False\n",
    "        for y in range(0, n): #同一行\n",
    "            if picture[x0][y] == \"B\" and y != y0:\n",
    "                return False\n",
    "        return True\n",
    "\n",
    "    for i in range(m):\n",
    "        for j in range(n):\n",
    "            if picture[i][j] == \"B\" and check(i, j):\n",
    "                res += 1\n",
    "    return res"
   ]
  },
  {
   "cell_type": "code",
   "execution_count": null,
   "metadata": {
    "id": "-W7E4EaYC5M4"
   },
   "outputs": [],
   "source": [
    "def findBlackPixel(self, picture, N):#孤独的像素2\n",
    "    picture = map(lambda x:\"\".join(x), picture)\n",
    "    m = len(picture)\n",
    "    n = len(picture[0])\n",
    "\n",
    "    col = [0]*n\n",
    "    for j in xrange(n):\n",
    "        for i in xrange(m):\n",
    "            if picture[i][j]=='B':\n",
    "                col[j] += 1\n",
    "\n",
    "    from collections import defaultdict\n",
    "    cnt = defaultdict(int)\n",
    "    for s in picture:\n",
    "        if len(filter(lambda x:x=='B', s))==N:\n",
    "            cnt[s] += 1\n",
    "    ans = 0\n",
    "    for s,cnt in cnt.iteritems():\n",
    "        if cnt!=N:continue\n",
    "        for j in xrange(n):\n",
    "            if s[j]=='B' and col[j]==N:\n",
    "                ans += N\n",
    "    return ans"
   ]
  },
  {
   "cell_type": "code",
   "execution_count": null,
   "metadata": {
    "id": "N_j231dkC5M5"
   },
   "outputs": [],
   "source": [
    "def pathSum(self, root: TreeNode, targetSum: int) -> List[List[int]]:\n",
    "       #总路径和：从根节点到叶子节点 路径总和等于给定目标和的路径\n",
    "        ret = list()\n",
    "        path = list()\n",
    "\n",
    "        def dfs(root: TreeNode, targetSum: int):\n",
    "            if not root:\n",
    "                return\n",
    "            path.append(root.val)\n",
    "            targetSum -= root.val\n",
    "            if not root.left and not root.right and targetSum == 0:\n",
    "                ret.append(path[:])\n",
    "            dfs(root.left, targetSum)\n",
    "            dfs(root.right, targetSum)\n",
    "            path.pop()\n",
    "\n",
    "        dfs(root, targetSum)\n",
    "        return ret"
   ]
  },
  {
   "cell_type": "code",
   "execution_count": null,
   "metadata": {
    "id": "3JQ8Ojj0C5M5"
   },
   "outputs": [],
   "source": [
    "def pathSum(self, root: TreeNode, targetSum: int)#路径和，不区分根节点和叶节点那个\n",
    "    counter=dict()\n",
    "    counter[0]=1\n",
    "    def dfs(node,curr):\n",
    "        if not node:\n",
    "            return 0\n",
    "        ans=0\n",
    "        curr+=node.val\n",
    "        ans+=counter.get(curr-targetSum,0)\n",
    "        counter[curr] =counter.get(curr,0)+1\n",
    "        ans+=dfs(node.left,curr)\n",
    "        ans+=dfs(node.right,curr)\n",
    "        counter[curr] =counter.get(curr)-1\n",
    "        return ans\n",
    "    val=dfs(root,0)\n",
    "    return val"
   ]
  },
  {
   "cell_type": "code",
   "execution_count": null,
   "metadata": {
    "id": "Qk3gDgMUC5M6"
   },
   "outputs": [],
   "source": [
    "class Solution:#重新安排行程，JFK那个\n",
    "    def findItinerary(self, tickets: List[List[str]]) -> List[str]:\n",
    "        def dfs(curr: str):\n",
    "            while vec[curr]:\n",
    "                tmp = heapq.heappop(vec[curr])\n",
    "                dfs(tmp)\n",
    "            stack.append(curr)\n",
    "\n",
    "        vec = collections.defaultdict(list)\n",
    "        for depart, arrive in tickets:\n",
    "            vec[depart].append(arrive)\n",
    "        for key in vec:\n",
    "            heapq.heapify(vec[key])\n",
    "\n",
    "        stack = list()\n",
    "        dfs(\"JFK\")\n",
    "        return stack[::-1]"
   ]
  },
  {
   "cell_type": "code",
   "execution_count": null,
   "metadata": {
    "id": "7YW31a7gC5M6"
   },
   "outputs": [],
   "source": [
    "#小偷，二叉树\n",
    "def rob(self, root: TreeNode) -> int:\n",
    "    def _rob(root):\n",
    "        if not root: return 0, 0\n",
    "        ls, ln = _rob(root.left)\n",
    "        rs, rn = _rob(root.right)\n",
    "\n",
    "        return root.val + ln + rn, max(ls, ln) + max(rs, rn)\n",
    "    return max(_rob(root))"
   ]
  },
  {
   "cell_type": "code",
   "execution_count": null,
   "metadata": {
    "id": "J-Ex9E7KC5M6"
   },
   "outputs": [],
   "source": [
    "class Solution:#单词接龙\n",
    "    def ladderLength(self, beginWord: str, endWord: str, wordList: List[str]) -> int:\n",
    "        def addWord(word: str):\n",
    "            if word not in wordId:\n",
    "                nonlocal nodeNum\n",
    "                wordId[word] = nodeNum\n",
    "                nodeNum += 1\n",
    "        def addEdge(word: str):\n",
    "            addWord(word)\n",
    "            id1 = wordId[word]\n",
    "            chars = list(word)\n",
    "            for i in range(len(chars)):\n",
    "                tmp = chars[i]\n",
    "                chars[i] = \"*\"\n",
    "                newWord = \"\".join(chars)\n",
    "                addWord(newWord)\n",
    "                id2 = wordId[newWord]\n",
    "                edge[id1].append(id2)\n",
    "                edge[id2].append(id1)\n",
    "                chars[i] = tmp\n",
    "        wordId = dict()\n",
    "        edge = collections.defaultdict(list)\n",
    "        nodeNum = 0\n",
    "        for word in wordList:\n",
    "            addEdge(word)\n",
    "        addEdge(beginWord)\n",
    "        if endWord not in wordId:\n",
    "            return 0\n",
    "        dis = [float(\"inf\")] * nodeNum\n",
    "        beginId, endId = wordId[beginWord], wordId[endWord]\n",
    "        dis[beginId] = 0\n",
    "        que = collections.deque([beginId])\n",
    "        while que:\n",
    "            x = que.popleft()\n",
    "            if x == endId:\n",
    "                return dis[endId] // 2 + 1\n",
    "            for it in edge[x]:\n",
    "                if dis[it] == float(\"inf\"):\n",
    "                    dis[it] = dis[x] + 1\n",
    "                    que.append(it)\n",
    "        return 0"
   ]
  },
  {
   "cell_type": "code",
   "execution_count": null,
   "metadata": {
    "id": "Fl-dTcNyC5M6"
   },
   "outputs": [],
   "source": [
    "def wordBreak(self, s: str, wordDict: List[str]) -> int:#单词拆分\n",
    "    wordDictSet = set(wordDict)\n",
    "    dp = [False] * (len(s) + 1)\n",
    "    for i in range(1, len(s) + 1):\n",
    "        # 找切分点\n",
    "        for j in range(i):\n",
    "            if dp[j] and s[j: i] in wordDictSet:\n",
    "                dp[i] = True # 说明s[: i] 在wordDict中\n",
    "                break # 剩下的切分点j不用再寻找了\n",
    "    return dp[-1]"
   ]
  },
  {
   "cell_type": "code",
   "execution_count": null,
   "metadata": {
    "id": "jGn1zvXJC5M6"
   },
   "outputs": [],
   "source": [
    "#被环绕的区域 X O A\n",
    "class Solution:\n",
    "    def solve(self, board: List[List[str]]) -> None:\n",
    "        if not board:\n",
    "            return\n",
    "        n, m = len(board), len(board[0])\n",
    "        def dfs(x, y):\n",
    "            if not 0 <= x < n or not 0 <= y < m or board[x][y] != 'O':\n",
    "                return\n",
    "            board[x][y] = \"A\"\n",
    "            dfs(x + 1, y)\n",
    "            dfs(x - 1, y)\n",
    "            dfs(x, y + 1)\n",
    "            dfs(x, y - 1)\n",
    "        for i in range(n):\n",
    "            dfs(i, 0)\n",
    "            dfs(i, m - 1)\n",
    "        for i in range(m - 1):\n",
    "            dfs(0, i)\n",
    "            dfs(n - 1, i)\n",
    "        for i in range(n):\n",
    "            for j in range(m):\n",
    "                if board[i][j] == \"A\":\n",
    "                    board[i][j] = \"O\"\n",
    "                elif board[i][j] == \"O\":\n",
    "                    board[i][j] = \"X\""
   ]
  },
  {
   "cell_type": "code",
   "execution_count": null,
   "metadata": {
    "id": "NSEUuzAgC5M7"
   },
   "outputs": [],
   "source": [
    "class Solution {#扫雷游戏\n",
    "    int[] dirX = {0, 1, 0, -1, 1, 1, -1, -1};\n",
    "    int[] dirY = {1, 0, -1, 0, 1, -1, 1, -1};\n",
    "    public char[][] updateBoard(char[][] board, int[] click) {\n",
    "        int x = click[0], y = click[1];\n",
    "        if (board[x][y] == 'M') {\n",
    "            // 规则 1\n",
    "            board[x][y] = 'X';\n",
    "        } else{\n",
    "            dfs(board, x, y);\n",
    "        }\n",
    "        return board;\n",
    "    }\n",
    "    public void dfs(char[][] board, int x, int y) {\n",
    "        int cnt = 0;\n",
    "        for (int i = 0; i < 8; ++i) {\n",
    "            int tx = x + dirX[i];\n",
    "            int ty = y + dirY[i];\n",
    "            if (tx < 0 || tx >= board.length || ty < 0 || ty >= board[0].length) {\n",
    "                continue;\n",
    "            }\n",
    "            // 不用判断 M，因为如果有 M 的话游戏已经结束了\n",
    "            if (board[tx][ty] == 'M') {\n",
    "                ++cnt;\n",
    "            }\n",
    "        }\n",
    "        if (cnt > 0) {\n",
    "            // 规则 3\n",
    "            board[x][y] = (char) (cnt + '0');\n",
    "        } else {\n",
    "            // 规则 2\n",
    "            board[x][y] = 'B';\n",
    "            for (int i = 0; i < 8; ++i) {\n",
    "                int tx = x + dirX[i];\n",
    "                int ty = y + dirY[i];\n",
    "                // 这里不需要在存在 B 的时候继续扩展，因为 B 之前被点击的时候已经被扩展过了\n",
    "                if (tx < 0 || tx >= board.length || ty < 0 || ty >= board[0].length || board[tx][ty] != 'E') {\n",
    "                    continue;\n",
    "                }\n",
    "                dfs(board, tx, ty);\n",
    "            }\n",
    "        }\n",
    "    }\n",
    "}"
   ]
  },
  {
   "cell_type": "code",
   "execution_count": null,
   "metadata": {
    "id": "V0wnc8zJC5M7"
   },
   "outputs": [],
   "source": [
    "def numBusesToDestination(self, routes: List[List[int]], source: int, target: int) -> int:\n",
    "    if source == target: return 0 #最少乘坐的公交车数量\n",
    "    station2bus = collections.defaultdict(list)\n",
    "    for bus in range(len(routes)):\n",
    "        for station in routes[bus]:\n",
    "            station2bus[station].append(bus)\n",
    "    visited = set()\n",
    "    q = collections.deque([(source, 0)])\n",
    "    while q:\n",
    "        station, numBuses = q.popleft()\n",
    "        for bus in station2bus[station]:\n",
    "            if bus not in visited:\n",
    "                visited.add(bus)\n",
    "                for next_station in routes[bus]:\n",
    "                    if next_station == target: return numBuses + 1\n",
    "                    q.append((next_station, numBuses+1))\n",
    "    return -1"
   ]
  },
  {
   "cell_type": "code",
   "execution_count": null,
   "metadata": {
    "id": "mUjqcE1fC5M7"
   },
   "outputs": [],
   "source": [
    "def search(self, nums: List[int], target: int) -> int:#翻转数组搜索\n",
    "    if not nums:\n",
    "        return -1\n",
    "    l,r=0,len(nums)-1\n",
    "    while l<=r:\n",
    "        mid=(l+r)//2\n",
    "        if nums[mid]==target:\n",
    "            return mid\n",
    "        if nums[0]<=nums[mid]:\n",
    "            if nums[0]<=target<=nums[mid]:\n",
    "                r=mid-1\n",
    "            else:\n",
    "                l=mid+1\n",
    "        else:\n",
    "            if nums[mid]<=target<=nums[len(nums)-1]:\n",
    "                l=mid+1\n",
    "            else:\n",
    "                r=mid-1\n",
    "    return -1"
   ]
  },
  {
   "cell_type": "code",
   "execution_count": null,
   "metadata": {
    "id": "701zgNHdC5M7"
   },
   "outputs": [],
   "source": [
    "def left_func(nums,target):#在排序数组中查找元素的第一\n",
    "    n = len(nums)-1\n",
    "    left = 0\n",
    "    right = n\n",
    "    while(left<=right):\n",
    "        mid = (left+right)//2\n",
    "        if nums[mid] >= target:\n",
    "            right = mid-1\n",
    "        if nums[mid] < target:\n",
    "            left = mid+1\n",
    "    return left\n",
    "a =  left_func(nums,target)\n",
    "b = left_func(nums,target+1)\n",
    "if  a == len(nums) or nums[a] != target:\n",
    "    return [-1,-1]\n",
    "else:\n",
    "    return [a,b-1]"
   ]
  },
  {
   "cell_type": "code",
   "execution_count": null,
   "metadata": {
    "id": "ehJdXu-fC5M7"
   },
   "outputs": [],
   "source": [
    "def longestPalindrome(self, s: str) -> str:#最长回文串\n",
    "    n=len(s)\n",
    "    if n==1:\n",
    "        return s\n",
    "    maxlen=1\n",
    "    begin=0\n",
    "    dp=[[False]*n for _ in range(n)]\n",
    "    for i in range(n):\n",
    "        dp[i][i]=True\n",
    "    for L in range(2,n+1):\n",
    "        for i in range(n):\n",
    "            j=i+L-1\n",
    "            if j>n-1:\n",
    "                break\n",
    "            if s[i]==s[j]:\n",
    "                if j-i<3:\n",
    "                    dp[i][j]=True\n",
    "                else:\n",
    "                    dp[i][j]=dp[i+1][j-1]\n",
    "            else:\n",
    "                 dp[i][j]=False\n",
    "            if dp[i][j]==True and j-i+1>maxlen:\n",
    "                maxlen=j-i+1\n",
    "                begin=i\n",
    "    return s[begin:begin+maxlen]"
   ]
  },
  {
   "cell_type": "code",
   "execution_count": null,
   "metadata": {
    "id": "Qyx0_GGkC5M8"
   },
   "outputs": [],
   "source": [
    "def isValid(self, s: str) -> bool:#有效的括号\n",
    "    if len(s)%2==1:\n",
    "        return False\n",
    "    pairs={\n",
    "        \")\":\"(\",\n",
    "        \"]\":\"[\",\n",
    "        \"}\":\"{\",\n",
    "    }\n",
    "    stack=[]\n",
    "    for ch in s:\n",
    "        if ch in pairs:\n",
    "            if not stack or stack[-1]!=pairs[ch]:\n",
    "                return False\n",
    "            stack.pop()\n",
    "        else:\n",
    "            stack.append(ch)\n",
    "    return not stack"
   ]
  },
  {
   "cell_type": "code",
   "execution_count": null,
   "metadata": {
    "id": "kAeEPtyPC5M8"
   },
   "outputs": [],
   "source": [
    "def multiply(self, num1: str, num2: str) -> str:#字符串相乘\n",
    "    if num1 == \"0\" or num2 == \"0\":\n",
    "        return \"0\"\n",
    "    m, n = len(num1), len(num2)\n",
    "    ansArr = [0] * (m + n)\n",
    "    for i in range(m - 1, -1, -1):\n",
    "        x = int(num1[i])\n",
    "        for j in range(n - 1, -1, -1):\n",
    "            ansArr[i + j + 1] += x * int(num2[j])\n",
    "\n",
    "    for i in range(m + n - 1, 0, -1):\n",
    "        ansArr[i - 1] += ansArr[i] // 10\n",
    "        ansArr[i] %= 10\n",
    "\n",
    "    index = 1 if ansArr[0] == 0 else 0\n",
    "    ans = \"\".join(str(x) for x in ansArr[index:])\n",
    "    return ans"
   ]
  },
  {
   "cell_type": "code",
   "execution_count": null,
   "metadata": {
    "id": "8AmwPVVkC5M8"
   },
   "outputs": [],
   "source": [
    "def restoreIpAddresses(self, s: str) -> List[str]:#ip恢复\n",
    "    SEG_COUNT = 4\n",
    "    ans = list()\n",
    "    segments = [0] * SEG_COUNT\n",
    "    def dfs(segId: int, segStart: int):\n",
    "        # 如果找到了 4 段 IP 地址并且遍历完了字符串，那么就是一种答案\n",
    "        if segId == SEG_COUNT:\n",
    "            if segStart == len(s):\n",
    "                ipAddr = \".\".join(str(seg) for seg in segments)\n",
    "                ans.append(ipAddr)\n",
    "            return\n",
    "\n",
    "        # 如果还没有找到 4 段 IP 地址就已经遍历完了字符串，那么提前回溯\n",
    "        if segStart == len(s):\n",
    "            return\n",
    "\n",
    "        # 由于不能有前导零，如果当前数字为 0，那么这一段 IP 地址只能为 0\n",
    "        if s[segStart] == \"0\":\n",
    "            segments[segId] = 0\n",
    "            dfs(segId + 1, segStart + 1)\n",
    "        # 一般情况，枚举每一种可能性并递归\n",
    "        addr = 0\n",
    "        for segEnd in range(segStart, len(s)):\n",
    "            addr = addr * 10 + (ord(s[segEnd]) - ord(\"0\"))\n",
    "            if 0 < addr <= 0xFF:\n",
    "                segments[segId] = addr\n",
    "                dfs(segId + 1, segEnd + 1)\n",
    "            else:\n",
    "                break\n",
    "    dfs(0, 0)\n",
    "    return ans"
   ]
  },
  {
   "cell_type": "code",
   "execution_count": null,
   "metadata": {
    "id": "HO9FaysyC5M8"
   },
   "outputs": [],
   "source": [
    "#课程表 拓扑排序\n",
    "def findOrder(self, numCourses: int, prerequisites: List[List[int]]) -> List[int]:\n",
    "    edges = collections.defaultdict(list)\n",
    "    visited = [0] * numCourses\n",
    "    circle = False\n",
    "    l=[]# stack\n",
    "    for node in prerequisites:\n",
    "        edges[node[1]].append(node[0])\n",
    "    def dfs(n):\n",
    "        nonlocal circle\n",
    "        visited[n]=1#正在访问\n",
    "        for neighbor in edges[n]:\n",
    "            if visited[neighbor]==0:#如果没有访问过，递归\n",
    "                dfs(neighbor)\n",
    "                if circle:\n",
    "                    return\n",
    "            if visited[neighbor]==1:#构成环\n",
    "                circle=True\n",
    "                return\n",
    "        visited[n]=2#访问过该点\n",
    "        l.append(n)\n",
    "    for i in range(numCourses):\n",
    "        if visited[i]==0 and not circle:\n",
    "            dfs(i)\n",
    "    if circle:\n",
    "        return []\n",
    "    else:\n",
    "        return l[::-1]"
   ]
  },
  {
   "cell_type": "code",
   "execution_count": null,
   "metadata": {
    "id": "ddo5ofAoC5M9"
   },
   "outputs": [],
   "source": [
    "#拼车\n",
    "def carPooling(self, trips: List[List[int]], capacity: int) -> bool:\n",
    "    stop = []\n",
    "    for n, s, e in trips:\n",
    "        stop.append([s, n])\n",
    "        stop.append([e, -n])\n",
    "\n",
    "    stop.sort()\n",
    "    p=0\n",
    "    for _, count in stop:\n",
    "        p+= count\n",
    "        if p > capacity: return False\n",
    "\n",
    "    return True"
   ]
  },
  {
   "cell_type": "code",
   "execution_count": null,
   "metadata": {
    "id": "SuCA__weC5M9"
   },
   "outputs": [],
   "source": [
    "#数组的中心下标\n",
    "    def pivotIndex(self, nums: List[int]) -> int:\n",
    "        if not nums: return 0\n",
    "        s_left=0\n",
    "        s_right=0\n",
    "        for i in nums:\n",
    "            s_right+=i\n",
    "        s_right-=nums[0]\n",
    "        if s_left==s_right:\n",
    "            return 0\n",
    "        for i in range(1,len(nums)):\n",
    "            s_left+=nums[i-1]\n",
    "            s_right-=nums[i]\n",
    "            if s_left==s_right:\n",
    "                return i\n",
    "        return -1"
   ]
  },
  {
   "cell_type": "code",
   "execution_count": null,
   "metadata": {
    "id": "wtQZPgjvC5M9"
   },
   "outputs": [],
   "source": [
    "#和是K的连续数组的个数\n",
    "def subarraySum(self, nums: List[int], k: int) -> int:\n",
    "    counter=dict()\n",
    "    pre=0\n",
    "    ans=0\n",
    "    for i in nums:\n",
    "        pre+=i\n",
    "        if pre==k:\n",
    "            ans+=1\n",
    "        ans+=counter.get(pre-k,0)\n",
    "        counter[pre]=counter.get(pre,0)+1\n",
    "    return ans"
   ]
  },
  {
   "cell_type": "code",
   "execution_count": null,
   "metadata": {
    "ExecuteTime": {
     "end_time": "2021-11-09T08:15:25.761983Z",
     "start_time": "2021-11-09T08:15:25.748984Z"
    },
    "id": "3_zdZdOQC5M9",
    "outputId": "2de98537-1338-452c-bffb-e74b532aa52b",
    "scrolled": true
   },
   "outputs": [],
   "source": [
    "def pathSum(self, root: TreeNode, targetSum: int)#路径和，不区分根节点和叶节点那个\n",
    "    counter=dict()\n",
    "    counter[0]=1\n",
    "    def dfs(node,curr):\n",
    "        if not node:\n",
    "            return 0\n",
    "        ans=0\n",
    "        curr+=node.val\n",
    "        ans+=counter.get(curr-targetSum,0)\n",
    "        counter[curr] =counter.get(curr,0)+1\n",
    "        ans+=dfs(node.left,curr)\n",
    "        ans+=dfs(node.right,curr)\n",
    "        counter[curr] =counter.get(curr)-1\n",
    "        return ans\n",
    "    val=dfs(root,0)\n",
    "    return val"
   ]
  },
  {
   "cell_type": "code",
   "execution_count": null,
   "metadata": {
    "ExecuteTime": {
     "end_time": "2021-11-09T08:23:32.592721Z",
     "start_time": "2021-11-09T08:23:32.581722Z"
    },
    "id": "LOfYUEJyC5M9"
   },
   "outputs": [],
   "source": [
    "def numberOfSubarrays(self, nums: List[int], k: int) -> int:#优美子数组\n",
    "    counter =dict()\n",
    "    counter[0]=1\n",
    "    prefix=[]\n",
    "    prefix.append(nums[0]%2)\n",
    "    for i in range(1,len(nums)):\n",
    "        if nums[i]%2==1:\n",
    "            prefix.append(prefix[-1]+1)\n",
    "        else:\n",
    "             prefix.append(prefix[-1])\n",
    "    ans=0\n",
    "    for i in prefix:\n",
    "        ans+=counter.get(i-k,0)\n",
    "        counter[i]=counter.get(i,0)+1\n",
    "    return ans"
   ]
  },
  {
   "cell_type": "code",
   "execution_count": null,
   "metadata": {
    "id": "5bxMlKo8C5M9"
   },
   "outputs": [],
   "source": [
    " n=len(nums)#长度最小的子数组，滑动窗口\n",
    " start=end=0\n",
    " total=0\n",
    " ans=n+1\n",
    " while end<n:\n",
    "    total+=nums[end]\n",
    "    while total>=target:\n",
    "        ans=min(ans,end-start+1)\n",
    "        total-=nums[start]\n",
    "        start+=1\n",
    "    else:\n",
    "        end+=1\n",
    " return 0 if ans==n+1 else ans"
   ]
  },
  {
   "cell_type": "code",
   "execution_count": null,
   "metadata": {
    "id": "K2ZnhZrRC5M-"
   },
   "outputs": [],
   "source": [
    "occ=set()#无重复字符的最长子串\n",
    "ans=0\n",
    "end=-1\n",
    "n=len(s)\n",
    "for i in range(n):\n",
    "    if i!=0:\n",
    "       occ.remove(s[i-1])\n",
    "    while end+1<n and s[end+1]not in occ:\n",
    "        occ.add(s[end+1])\n",
    "        end+=1\n",
    "    ans=max(ans,end-i+1)\n",
    "return ans"
   ]
  },
  {
   "cell_type": "code",
   "execution_count": null,
   "metadata": {
    "id": "hk2KDj9wC5M-"
   },
   "outputs": [],
   "source": [
    "#最大连续的1的个数\n",
    "def longestOnes(self, nums: List[int], k: int) -> int:\n",
    "        n = len(nums)\n",
    "        left = lsum = rsum = 0\n",
    "        ans = 0\n",
    "\n",
    "        for right in range(n):\n",
    "            rsum += 1 - nums[right]\n",
    "            while lsum < rsum - k:\n",
    "                lsum += 1 - nums[left]\n",
    "                left += 1\n",
    "            ans = max(ans, right - left + 1)\n",
    "\n",
    "        return ans"
   ]
  },
  {
   "cell_type": "code",
   "execution_count": null,
   "metadata": {
    "ExecuteTime": {
     "end_time": "2021-11-09T12:40:20.917373Z",
     "start_time": "2021-11-09T12:40:20.910372Z"
    },
    "id": "UIXg6XmLC5M-"
   },
   "outputs": [],
   "source": [
    "arr=[]#尽可能使字符串相等\n",
    "for i in range(len(s)):\n",
    "    arr.append(abs(ord(t[i])-ord(s[i])))\n",
    "start=end=sum=maxlen=0\n",
    "while end<len(arr):\n",
    "    sum+=arr[end]\n",
    "    if sum>maxCost:\n",
    "        sum-=arr[start]\n",
    "        start+=1\n",
    "    maxlen=max(maxlen,end-start+1)\n",
    "    end+=1\n",
    "return maxlen"
   ]
  },
  {
   "cell_type": "code",
   "execution_count": null,
   "metadata": {
    "ExecuteTime": {
     "end_time": "2021-11-10T03:09:17.350526Z",
     "start_time": "2021-11-10T03:09:17.330764Z"
    },
    "id": "2GQZB6DLC5M-"
   },
   "outputs": [],
   "source": [
    "def findCircleNum(self, isConnected: List[List[int]]) -> int:#省份的数量\n",
    "    visited=set()\n",
    "    number=len(isConnected)\n",
    "    province=0\n",
    "    def dfs(i):\n",
    "        for j in range(number):\n",
    "            if isConnected[i][j]==1 and j not in visited:\n",
    "                visited.add(j)\n",
    "                dfs(j)\n",
    "    for  i in range(number):\n",
    "        if i not in visited:\n",
    "            visited.add(i)\n",
    "            dfs(i)\n",
    "            province+=1\n",
    "    return province"
   ]
  },
  {
   "cell_type": "code",
   "execution_count": null,
   "metadata": {
    "id": "fFmMadBJC5M-"
   },
   "outputs": [],
   "source": [
    "def dfs(self,grid,r,c):#岛屿的数量\n",
    "    grid[r][c]=\"0\"\n",
    "    for x,y in [(r - 1, c), (r + 1, c), (r, c - 1), (r, c + 1)]:\n",
    "        if   0<=x<len(grid) and 0<=y<len(grid[0]) and grid[x][y]==\"1\":\n",
    "            self.dfs(grid,x,y)\n",
    "def numIslands(self, grid: List[List[str]]) -> int:\n",
    "    count=0\n",
    "    for x in range(len(grid)):\n",
    "        for y in range(len(grid[0])):\n",
    "            if grid[x][y]==\"1\":\n",
    "                self.dfs(grid,x,y)\n",
    "                count+=1\n",
    "    return count"
   ]
  },
  {
   "cell_type": "code",
   "execution_count": null,
   "metadata": {
    "id": "9n43ocuQC5M_"
   },
   "outputs": [],
   "source": [
    "def findRedundantConnection(self, edges: List[List[int]]) -> List[int]:#冗余链接\n",
    "    n=len(edges)\n",
    "    parent=list(range(n+1))\n",
    "    def find(index):\n",
    "        if  parent[index]!=index:\n",
    "            parent[index]=find(parent[index])\n",
    "        return parent[index]\n",
    "\n",
    "    def union(index1,index2):\n",
    "        parent[find(index1)]=find(index2)\n",
    "\n",
    "    for node1,node2 in edges:\n",
    "        if find(node1)!=find(node2):\n",
    "            union(node1,node2)\n",
    "        else:\n",
    "            return [node1,node2]\n",
    "    return []"
   ]
  },
  {
   "cell_type": "code",
   "execution_count": null,
   "metadata": {
    "id": "4K8qFkyDC5M_"
   },
   "outputs": [],
   "source": [
    "def largestRectangleArea(self, heights: List[int]) -> int:#柱状图中最大的矩形\n",
    "    n = len(heights)\n",
    "    left, right = [0] * n, [0] * n\n",
    "\n",
    "    mono_stack = list()\n",
    "    for i in range(n):\n",
    "        while mono_stack and heights[mono_stack[-1]] >= heights[i]:\n",
    "            mono_stack.pop()\n",
    "        left[i] = mono_stack[-1] if mono_stack else -1\n",
    "        mono_stack.append(i)\n",
    "\n",
    "    mono_stack = list()\n",
    "    for i in range(n - 1, -1, -1):\n",
    "        while mono_stack and heights[mono_stack[-1]] >= heights[i]:\n",
    "            mono_stack.pop()\n",
    "        right[i] = mono_stack[-1] if mono_stack else n\n",
    "        mono_stack.append(i)\n",
    "\n",
    "    ans = max((right[i] - left[i] - 1) * heights[i] for i in range(n)) if n > 0 else 0\n",
    "    return ans"
   ]
  },
  {
   "cell_type": "code",
   "execution_count": null,
   "metadata": {
    "id": "9a0K85HmC5M_"
   },
   "outputs": [],
   "source": [
    "class Solution {\n",
    "    public int maximalRectangle(char[][] matrix) {\n",
    "        int m = matrix.length;\n",
    "        if (m == 0) {\n",
    "            return 0;\n",
    "        }\n",
    "        int n = matrix[0].length;\n",
    "        int[][] left = new int[m][n];\n",
    "\n",
    "        for (int i = 0; i < m; i++) {\n",
    "            for (int j = 0; j < n; j++) {\n",
    "                if (matrix[i][j] == '1') {\n",
    "                    left[i][j] = (j == 0 ? 0 : left[i][j - 1]) + 1;\n",
    "                }\n",
    "            }\n",
    "        }\n",
    "\n",
    "        int ret = 0;\n",
    "        for (int j = 0; j < n; j++) { // 对于每一列，使用基于柱状图的方法\n",
    "            int[] up = new int[m];\n",
    "            int[] down = new int[m];\n",
    "\n",
    "            Deque<Integer> stack = new LinkedList<Integer>();\n",
    "            for (int i = 0; i < m; i++) {\n",
    "                while (!stack.isEmpty() && left[stack.peek()][j] >= left[i][j]) {\n",
    "                    stack.pop();\n",
    "                }\n",
    "                up[i] = stack.isEmpty() ? -1 : stack.peek();\n",
    "                stack.push(i);\n",
    "            }\n",
    "            stack.clear();\n",
    "            for (int i = m - 1; i >= 0; i--) {\n",
    "                while (!stack.isEmpty() && left[stack.peek()][j] >= left[i][j]) {\n",
    "                    stack.pop();\n",
    "                }\n",
    "                down[i] = stack.isEmpty() ? m : stack.peek();\n",
    "                stack.push(i);\n",
    "            }\n",
    "            for (int i = 0; i < m; i++) {\n",
    "                int height = down[i] - up[i] - 1;\n",
    "                int area = height * left[i][j];\n",
    "                ret = Math.max(ret, area);\n",
    "            }\n",
    "        }\n",
    "        return ret;\n",
    "    }\n",
    "}"
   ]
  },
  {
   "cell_type": "code",
   "execution_count": null,
   "metadata": {
    "ExecuteTime": {
     "end_time": "2021-11-10T05:16:53.547226Z",
     "start_time": "2021-11-10T05:16:53.531168Z"
    },
    "id": "aaiRkz11C5M_",
    "outputId": "7638fef8-01a7-44ff-d947-bc94b759b57a",
    "scrolled": true
   },
   "outputs": [],
   "source": [
    "#最高温度\n",
    "def dailyTemperatures(self, temperatures: List[int]) -> List[int]:\n",
    "        l=list()\n",
    "        res=[0]*len(temperatures)\n",
    "        temp=0\n",
    "        #单调递增栈，最大的数在栈底，可以想象成金字塔\n",
    "        for i in range(len(temperatures)):\n",
    "            if not l or temperatures[i]<=temperatures[l[-1]]:\n",
    "                l.append(i)\n",
    "            else:\n",
    "                while l and temperatures[i]>temperatures[l[-1]]:\n",
    "                    temp=l.pop()\n",
    "                    res[temp]=i-temp\n",
    "                l.append(i)\n",
    "        for i in l:\n",
    "            res[i]=0\n",
    "        return res"
   ]
  },
  {
   "cell_type": "code",
   "execution_count": null,
   "metadata": {
    "ExecuteTime": {
     "end_time": "2021-11-10T06:24:13.591225Z",
     "start_time": "2021-11-10T06:24:13.574174Z"
    },
    "id": "wQnH0lrlC5M_"
   },
   "outputs": [],
   "source": [
    "def nextGreaterElements(self, nums: List[int]) -> List[int]:#下一个最大的数\n",
    "    n = len(nums)\n",
    "    ret = [-1] * n\n",
    "    stk = list()\n",
    "\n",
    "    for i in range(n * 2 - 1):\n",
    "        while stk and nums[stk[-1]] < nums[i % n]:\n",
    "            ret[stk.pop()] = nums[i % n]\n",
    "        stk.append(i % n)\n",
    "    return ret"
   ]
  },
  {
   "cell_type": "code",
   "execution_count": null,
   "metadata": {
    "id": "3kepmLhmC5NA"
   },
   "outputs": [],
   "source": [
    "def dailyTemperatures(self, temperatures: List[int]) -> List[int]:#每日温度\n",
    "        l=list()\n",
    "        res=[0]*len(temperatures)\n",
    "        temp=0\n",
    "        for i in range(len(temperatures)):\n",
    "            while l and temperatures[i]>temperatures[l[-1]]:\n",
    "                temp=l.pop()\n",
    "                res[temp]=i-temp\n",
    "            l.append(i)\n",
    "        return res"
   ]
  },
  {
   "cell_type": "code",
   "execution_count": null,
   "metadata": {
    "id": "obPENqcsC5NA"
   },
   "outputs": [],
   "source": [
    "def mergeKLists(self, lists):#合并k个升序链表\n",
    "    res = []\n",
    "    for node in lists:\n",
    "        while node:\n",
    "            res.append(node.val)\n",
    "            node = node.next\n",
    "    head = ListNode(0)\n",
    "    point = head\n",
    "    res.sort()\n",
    "    for x in res:\n",
    "        point.next = ListNode(x)\n",
    "        point = point.next\n",
    "    return head.next"
   ]
  },
  {
   "cell_type": "code",
   "execution_count": null,
   "metadata": {
    "id": "fGxnF0T3C5NA"
   },
   "outputs": [],
   "source": [
    "def largestRectangleArea(self, heights: List[int]) -> int:#柱状图形的最大\n",
    "    n = len(heights)\n",
    "    left, right = [0] * n, [0] * n\n",
    "\n",
    "    mono_stack = list()\n",
    "    for i in range(n):\n",
    "        while mono_stack and heights[mono_stack[-1]] >= heights[i]:\n",
    "            mono_stack.pop()\n",
    "        left[i] = mono_stack[-1] if mono_stack else -1\n",
    "        mono_stack.append(i)\n",
    "    mono_stack = list()\n",
    "    for i in range(n - 1, -1, -1):\n",
    "        while mono_stack and heights[mono_stack[-1]] >= heights[i]:\n",
    "            mono_stack.pop()\n",
    "        right[i] = mono_stack[-1] if mono_stack else n\n",
    "        mono_stack.append(i)\n",
    "\n",
    "    ans = max((right[i] - left[i] - 1) * heights[i] for i in range(n)) if n > 0 else 0\n",
    "    return ans"
   ]
  },
  {
   "cell_type": "code",
   "execution_count": null,
   "metadata": {
    "id": "-wQ-Pj0IC5NA"
   },
   "outputs": [],
   "source": [
    "public int maximalRectangle(char[][] matrix) {\n",
    "    int m = matrix.length\n",
    "    if (m == 0) {\n",
    "        return 0\n",
    "    }\n",
    "    int n = matrix[0].length;\n",
    "    int[][] left = new int[m][n];\n",
    "\n",
    "    for (int i = 0; i < m; i++) {\n",
    "        for (int j = 0; j < n; j++) {\n",
    "            if (matrix[i][j] == '1') {\n",
    "                left[i][j] = (j == 0 ? 0 : left[i][j - 1]) + 1;\n",
    "            }\n",
    "        }\n",
    "    }\n",
    "\n",
    "    int ret = 0;\n",
    "    for (int j = 0; j < n; j++) { // 对于每一列，使用基于柱状图的方法\n",
    "        int[] up = new int[m];\n",
    "        int[] down = new int[m];\n",
    "\n",
    "        Deque<Integer> stack = new LinkedList<Integer>();\n",
    "        for (int i = 0; i < m; i++) {\n",
    "            while (!stack.isEmpty() && left[stack.peek()][j] >= left[i][j]) {\n",
    "                stack.pop();\n",
    "            }\n",
    "            up[i] = stack.isEmpty() ? -1 : stack.peek();\n",
    "            stack.push(i);\n",
    "        }\n",
    "        stack.clear();\n",
    "        for (int i = m - 1; i >= 0; i--) {\n",
    "            while (!stack.isEmpty() && left[stack.peek()][j] >= left[i][j]) {\n",
    "                stack.pop();\n",
    "            }\n",
    "            down[i] = stack.isEmpty() ? m : stack.peek();\n",
    "            stack.push(i);\n",
    "        }\n",
    "\n",
    "        for (int i = 0; i < m; i++) {\n",
    "            int height = down[i] - up[i] - 1;\n",
    "            int area = height * left[i][j];\n",
    "            ret = Math.max(ret, area);\n",
    "        }\n",
    "    }\n",
    "    return ret;\n",
    "}\n",
    "}"
   ]
  }
 ],
 "metadata": {
  "colab": {
   "provenance": []
  },
  "kernelspec": {
   "display_name": "Python 3 (ipykernel)",
   "language": "python",
   "name": "python3"
  },
  "language_info": {
   "codemirror_mode": {
    "name": "ipython",
    "version": 3
   },
   "file_extension": ".py",
   "mimetype": "text/x-python",
   "name": "python",
   "nbconvert_exporter": "python",
   "pygments_lexer": "ipython3",
   "version": "3.10.13"
  }
 },
 "nbformat": 4,
 "nbformat_minor": 4
}
